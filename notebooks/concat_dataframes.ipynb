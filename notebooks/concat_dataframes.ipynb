{
 "cells": [
  {
   "cell_type": "code",
   "execution_count": 14,
   "id": "initial_id",
   "metadata": {
    "collapsed": true,
    "ExecuteTime": {
     "end_time": "2024-04-19T12:18:29.350210Z",
     "start_time": "2024-04-19T12:18:29.292601Z"
    }
   },
   "outputs": [],
   "source": [
    "import pandas as pd\n",
    "import os\n",
    "\n",
    "# Create an empty DataFrame to store concatenated data\n",
    "concatenated_df = pd.DataFrame()\n",
    "\n",
    "# Directory containing the CSV files\n",
    "directory = '../data/processed'\n",
    "\n",
    "# Loop through each file in the directory\n",
    "for filename in os.listdir(directory):\n",
    "    # Check if the file is a CSV file\n",
    "    if filename.endswith(\".csv\") and filename.startswith(\"mbajk_station_\"):\n",
    "        # Read the CSV file\n",
    "        df = pd.read_csv(os.path.join(directory, filename))\n",
    "        # Add a new column for the file name\n",
    "        df['station_number'] = filename.split('_')[2].split('.')[0]\n",
    "        # Concatenate the DataFrame to the main DataFrame\n",
    "        concatenated_df = pd.concat([concatenated_df, df], ignore_index=True)\n",
    "\n",
    "# Save the concatenated DataFrame to a new CSV file\n",
    "concatenated_df.to_csv('../data/processed/reference_data.csv', index=False)\n",
    "\n",
    "# sort by station_number\n",
    "concatenated_df.sort_values(by=\"station_number\", inplace=True)"
   ]
  },
  {
   "cell_type": "code",
   "outputs": [
    {
     "data": {
      "text/plain": "      available_bike_stands  temperature  surface_pressure  \\\n5737                     22          5.8             991.9   \n5770                      1         10.7             983.6   \n5771                      7         10.1             984.1   \n5772                      6          9.8             984.7   \n5773                      4          9.2             985.0   \n\n      apparent_temperature  dew_point station_number  \n5737                   3.8        4.1              1  \n5770                   8.6        4.1              1  \n5771                   8.4        4.3              1  \n5772                   8.4        4.8              1  \n5773                   7.8        5.6              1  ",
      "text/html": "<div>\n<style scoped>\n    .dataframe tbody tr th:only-of-type {\n        vertical-align: middle;\n    }\n\n    .dataframe tbody tr th {\n        vertical-align: top;\n    }\n\n    .dataframe thead th {\n        text-align: right;\n    }\n</style>\n<table border=\"1\" class=\"dataframe\">\n  <thead>\n    <tr style=\"text-align: right;\">\n      <th></th>\n      <th>available_bike_stands</th>\n      <th>temperature</th>\n      <th>surface_pressure</th>\n      <th>apparent_temperature</th>\n      <th>dew_point</th>\n      <th>station_number</th>\n    </tr>\n  </thead>\n  <tbody>\n    <tr>\n      <th>5737</th>\n      <td>22</td>\n      <td>5.8</td>\n      <td>991.9</td>\n      <td>3.8</td>\n      <td>4.1</td>\n      <td>1</td>\n    </tr>\n    <tr>\n      <th>5770</th>\n      <td>1</td>\n      <td>10.7</td>\n      <td>983.6</td>\n      <td>8.6</td>\n      <td>4.1</td>\n      <td>1</td>\n    </tr>\n    <tr>\n      <th>5771</th>\n      <td>7</td>\n      <td>10.1</td>\n      <td>984.1</td>\n      <td>8.4</td>\n      <td>4.3</td>\n      <td>1</td>\n    </tr>\n    <tr>\n      <th>5772</th>\n      <td>6</td>\n      <td>9.8</td>\n      <td>984.7</td>\n      <td>8.4</td>\n      <td>4.8</td>\n      <td>1</td>\n    </tr>\n    <tr>\n      <th>5773</th>\n      <td>4</td>\n      <td>9.2</td>\n      <td>985.0</td>\n      <td>7.8</td>\n      <td>5.6</td>\n      <td>1</td>\n    </tr>\n  </tbody>\n</table>\n</div>"
     },
     "execution_count": 15,
     "metadata": {},
     "output_type": "execute_result"
    }
   ],
   "source": [
    "concatenated_df.head()"
   ],
   "metadata": {
    "collapsed": false,
    "ExecuteTime": {
     "end_time": "2024-04-19T12:18:29.355425Z",
     "start_time": "2024-04-19T12:18:29.351103Z"
    }
   },
   "id": "89c1cf665b8b55b5",
   "execution_count": 15
  }
 ],
 "metadata": {
  "kernelspec": {
   "display_name": "Python 3",
   "language": "python",
   "name": "python3"
  },
  "language_info": {
   "codemirror_mode": {
    "name": "ipython",
    "version": 2
   },
   "file_extension": ".py",
   "mimetype": "text/x-python",
   "name": "python",
   "nbconvert_exporter": "python",
   "pygments_lexer": "ipython2",
   "version": "2.7.6"
  }
 },
 "nbformat": 4,
 "nbformat_minor": 5
}
