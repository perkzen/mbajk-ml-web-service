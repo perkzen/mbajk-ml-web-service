{
 "cells": [
  {
   "cell_type": "code",
   "execution_count": 33,
   "id": "initial_id",
   "metadata": {
    "collapsed": true,
    "ExecuteTime": {
     "end_time": "2024-04-25T20:31:00.850677Z",
     "start_time": "2024-04-25T20:31:00.848304Z"
    }
   },
   "outputs": [],
   "source": [
    "import pandas as pd"
   ]
  },
  {
   "cell_type": "code",
   "outputs": [
    {
     "data": {
      "text/plain": "   available_bike_stands  temperature  surface_pressure  apparent_temperature  \\\n0                      7         10.9             985.4                  10.0   \n1                      7         11.2             984.9                   9.8   \n2                     12         11.1             985.2                  10.1   \n3                     14         10.7             985.2                   9.8   \n4                     13          9.9             985.1                   9.0   \n\n   dew_point  \n0        7.8  \n1        8.0  \n2        8.2  \n3        7.9  \n4        7.9  ",
      "text/html": "<div>\n<style scoped>\n    .dataframe tbody tr th:only-of-type {\n        vertical-align: middle;\n    }\n\n    .dataframe tbody tr th {\n        vertical-align: top;\n    }\n\n    .dataframe thead th {\n        text-align: right;\n    }\n</style>\n<table border=\"1\" class=\"dataframe\">\n  <thead>\n    <tr style=\"text-align: right;\">\n      <th></th>\n      <th>available_bike_stands</th>\n      <th>temperature</th>\n      <th>surface_pressure</th>\n      <th>apparent_temperature</th>\n      <th>dew_point</th>\n    </tr>\n  </thead>\n  <tbody>\n    <tr>\n      <th>0</th>\n      <td>7</td>\n      <td>10.9</td>\n      <td>985.4</td>\n      <td>10.0</td>\n      <td>7.8</td>\n    </tr>\n    <tr>\n      <th>1</th>\n      <td>7</td>\n      <td>11.2</td>\n      <td>984.9</td>\n      <td>9.8</td>\n      <td>8.0</td>\n    </tr>\n    <tr>\n      <th>2</th>\n      <td>12</td>\n      <td>11.1</td>\n      <td>985.2</td>\n      <td>10.1</td>\n      <td>8.2</td>\n    </tr>\n    <tr>\n      <th>3</th>\n      <td>14</td>\n      <td>10.7</td>\n      <td>985.2</td>\n      <td>9.8</td>\n      <td>7.9</td>\n    </tr>\n    <tr>\n      <th>4</th>\n      <td>13</td>\n      <td>9.9</td>\n      <td>985.1</td>\n      <td>9.0</td>\n      <td>7.9</td>\n    </tr>\n  </tbody>\n</table>\n</div>"
     },
     "execution_count": 34,
     "metadata": {},
     "output_type": "execute_result"
    }
   ],
   "source": [
    "df = pd.read_csv(\"../data/processed/1/train.csv\")\n",
    "df.head()"
   ],
   "metadata": {
    "collapsed": false,
    "ExecuteTime": {
     "end_time": "2024-04-25T20:31:00.874292Z",
     "start_time": "2024-04-25T20:31:00.866719Z"
    }
   },
   "id": "e4456c531e28ba50",
   "execution_count": 34
  },
  {
   "cell_type": "code",
   "outputs": [
    {
     "data": {
      "text/plain": "available_bike_stands     0\ntemperature              31\nsurface_pressure         31\napparent_temperature     31\ndew_point                31\ndtype: int64"
     },
     "execution_count": 35,
     "metadata": {},
     "output_type": "execute_result"
    }
   ],
   "source": [
    "# print missing values\n",
    "df.isna().sum()"
   ],
   "metadata": {
    "collapsed": false,
    "ExecuteTime": {
     "end_time": "2024-04-25T20:31:00.878603Z",
     "start_time": "2024-04-25T20:31:00.875453Z"
    }
   },
   "id": "b19fc4fffe9d1265",
   "execution_count": 35
  },
  {
   "cell_type": "code",
   "outputs": [
    {
     "data": {
      "text/plain": "Index([ 40,  44,  75, 103, 123, 155, 156, 174, 181, 210, 221, 228, 248, 260,\n       274, 279, 293, 307, 339, 340, 354, 359, 360, 361, 362, 363, 364, 365,\n       366, 367, 368],\n      dtype='int64')"
     },
     "execution_count": 36,
     "metadata": {},
     "output_type": "execute_result"
    }
   ],
   "source": [
    "missing_indexes = df.index[df.isnull().any(axis=1)]\n",
    "missing_indexes"
   ],
   "metadata": {
    "collapsed": false,
    "ExecuteTime": {
     "end_time": "2024-04-25T20:31:00.882416Z",
     "start_time": "2024-04-25T20:31:00.879490Z"
    }
   },
   "id": "29bf6a63100bb9b8",
   "execution_count": 36
  },
  {
   "cell_type": "code",
   "outputs": [
    {
     "data": {
      "text/plain": "Index(['temperature', 'surface_pressure', 'apparent_temperature', 'dew_point'], dtype='object')"
     },
     "execution_count": 37,
     "metadata": {},
     "output_type": "execute_result"
    }
   ],
   "source": [
    "cols_to_fill = df.columns[df.isna().sum() > 0]\n",
    "cols_to_fill"
   ],
   "metadata": {
    "collapsed": false,
    "ExecuteTime": {
     "end_time": "2024-04-25T20:31:00.885741Z",
     "start_time": "2024-04-25T20:31:00.883227Z"
    }
   },
   "id": "229e9282ac953175",
   "execution_count": 37
  },
  {
   "cell_type": "code",
   "outputs": [],
   "source": [
    "from sklearn.ensemble import RandomForestRegressor\n",
    "from sklearn.preprocessing import MinMaxScaler\n",
    "from sklearn.pipeline import Pipeline\n",
    "\n",
    "pipeline = Pipeline(steps=[\n",
    "    (\"scaler\", MinMaxScaler()),\n",
    "    (\"model\", RandomForestRegressor())\n",
    "])"
   ],
   "metadata": {
    "collapsed": false,
    "ExecuteTime": {
     "end_time": "2024-04-25T20:31:00.891844Z",
     "start_time": "2024-04-25T20:31:00.887570Z"
    }
   },
   "id": "c7555bfe7a06fb7d",
   "execution_count": 38
  },
  {
   "cell_type": "code",
   "outputs": [],
   "source": [
    "for col in cols_to_fill:\n",
    "    incomplete_rows = df[df[col].isna()]\n",
    "    complete_rows = df[~df[col].isna()]\n",
    "\n",
    "    features = [c for c in df.columns if c != col]\n",
    "    target = col\n",
    "\n",
    "    X_train = complete_rows[features]\n",
    "    y_train = complete_rows[target]\n",
    "\n",
    "    pipeline.fit(X_train, y_train)\n",
    "\n",
    "    predictions = pipeline.predict(incomplete_rows[features])\n",
    "\n",
    "    df.loc[incomplete_rows.index, col] = predictions"
   ],
   "metadata": {
    "collapsed": false,
    "ExecuteTime": {
     "end_time": "2024-04-25T20:31:01.485899Z",
     "start_time": "2024-04-25T20:31:00.892691Z"
    }
   },
   "id": "ac52b59a412e624f",
   "execution_count": 39
  },
  {
   "cell_type": "code",
   "outputs": [
    {
     "data": {
      "text/plain": "available_bike_stands    0\ntemperature              0\nsurface_pressure         0\napparent_temperature     0\ndew_point                0\ndtype: int64"
     },
     "execution_count": 40,
     "metadata": {},
     "output_type": "execute_result"
    }
   ],
   "source": [
    "df.isna().sum()"
   ],
   "metadata": {
    "collapsed": false,
    "ExecuteTime": {
     "end_time": "2024-04-25T20:31:01.489283Z",
     "start_time": "2024-04-25T20:31:01.486455Z"
    }
   },
   "id": "6c4e98ee2fd54217",
   "execution_count": 40
  },
  {
   "cell_type": "code",
   "outputs": [
    {
     "data": {
      "text/plain": "     available_bike_stands  temperature  surface_pressure  \\\n40                      19       11.224          990.0040   \n44                       1       11.186          989.2380   \n75                       3       11.210          991.6520   \n103                     13       11.216          985.1840   \n123                      9       11.190          982.2020   \n155                     22       11.190          989.8225   \n156                     21       11.196          989.8080   \n174                      0       11.212          989.4130   \n181                     15       11.236          983.2880   \n210                     16       11.228          982.4120   \n221                      8       11.188          983.5980   \n228                     17       11.232          982.4470   \n248                     19       11.224          990.0040   \n260                      9       11.190          982.2020   \n274                     22       11.190          989.8225   \n279                     21       11.196          989.8080   \n293                      3       11.210          991.6520   \n307                     18       11.235          989.7380   \n339                      8       11.188          983.5980   \n340                      8       11.188          983.5980   \n354                     22       11.190          989.8225   \n359                     10       11.219          982.5480   \n360                     13       11.216          985.1840   \n361                     13       11.216          985.1840   \n362                     17       11.232          982.4470   \n363                     18       11.235          989.7380   \n364                     22       11.190          989.8225   \n365                     20       11.199          990.0310   \n366                     20       11.199          990.0310   \n367                     22       11.190          989.8225   \n368                     20       11.199          990.0310   \n\n     apparent_temperature  dew_point  \n40                  9.256      6.185  \n44                  9.294      6.322  \n75                  9.398      6.277  \n103                 9.263      5.779  \n123                 9.228      4.100  \n155                 9.247      6.370  \n156                 9.220      6.393  \n174                 9.313      6.542  \n181                 9.243      3.176  \n210                 9.242      3.710  \n221                 9.274      3.555  \n228                 9.202      3.661  \n248                 9.256      6.185  \n260                 9.228      4.100  \n274                 9.247      6.370  \n279                 9.220      6.393  \n293                 9.398      6.277  \n307                 9.253      6.211  \n339                 9.274      3.555  \n340                 9.274      3.555  \n354                 9.247      6.370  \n359                 9.261      3.660  \n360                 9.263      5.779  \n361                 9.263      5.779  \n362                 9.202      3.661  \n363                 9.253      6.211  \n364                 9.247      6.370  \n365                 9.293      6.348  \n366                 9.293      6.348  \n367                 9.247      6.370  \n368                 9.293      6.348  ",
      "text/html": "<div>\n<style scoped>\n    .dataframe tbody tr th:only-of-type {\n        vertical-align: middle;\n    }\n\n    .dataframe tbody tr th {\n        vertical-align: top;\n    }\n\n    .dataframe thead th {\n        text-align: right;\n    }\n</style>\n<table border=\"1\" class=\"dataframe\">\n  <thead>\n    <tr style=\"text-align: right;\">\n      <th></th>\n      <th>available_bike_stands</th>\n      <th>temperature</th>\n      <th>surface_pressure</th>\n      <th>apparent_temperature</th>\n      <th>dew_point</th>\n    </tr>\n  </thead>\n  <tbody>\n    <tr>\n      <th>40</th>\n      <td>19</td>\n      <td>11.224</td>\n      <td>990.0040</td>\n      <td>9.256</td>\n      <td>6.185</td>\n    </tr>\n    <tr>\n      <th>44</th>\n      <td>1</td>\n      <td>11.186</td>\n      <td>989.2380</td>\n      <td>9.294</td>\n      <td>6.322</td>\n    </tr>\n    <tr>\n      <th>75</th>\n      <td>3</td>\n      <td>11.210</td>\n      <td>991.6520</td>\n      <td>9.398</td>\n      <td>6.277</td>\n    </tr>\n    <tr>\n      <th>103</th>\n      <td>13</td>\n      <td>11.216</td>\n      <td>985.1840</td>\n      <td>9.263</td>\n      <td>5.779</td>\n    </tr>\n    <tr>\n      <th>123</th>\n      <td>9</td>\n      <td>11.190</td>\n      <td>982.2020</td>\n      <td>9.228</td>\n      <td>4.100</td>\n    </tr>\n    <tr>\n      <th>155</th>\n      <td>22</td>\n      <td>11.190</td>\n      <td>989.8225</td>\n      <td>9.247</td>\n      <td>6.370</td>\n    </tr>\n    <tr>\n      <th>156</th>\n      <td>21</td>\n      <td>11.196</td>\n      <td>989.8080</td>\n      <td>9.220</td>\n      <td>6.393</td>\n    </tr>\n    <tr>\n      <th>174</th>\n      <td>0</td>\n      <td>11.212</td>\n      <td>989.4130</td>\n      <td>9.313</td>\n      <td>6.542</td>\n    </tr>\n    <tr>\n      <th>181</th>\n      <td>15</td>\n      <td>11.236</td>\n      <td>983.2880</td>\n      <td>9.243</td>\n      <td>3.176</td>\n    </tr>\n    <tr>\n      <th>210</th>\n      <td>16</td>\n      <td>11.228</td>\n      <td>982.4120</td>\n      <td>9.242</td>\n      <td>3.710</td>\n    </tr>\n    <tr>\n      <th>221</th>\n      <td>8</td>\n      <td>11.188</td>\n      <td>983.5980</td>\n      <td>9.274</td>\n      <td>3.555</td>\n    </tr>\n    <tr>\n      <th>228</th>\n      <td>17</td>\n      <td>11.232</td>\n      <td>982.4470</td>\n      <td>9.202</td>\n      <td>3.661</td>\n    </tr>\n    <tr>\n      <th>248</th>\n      <td>19</td>\n      <td>11.224</td>\n      <td>990.0040</td>\n      <td>9.256</td>\n      <td>6.185</td>\n    </tr>\n    <tr>\n      <th>260</th>\n      <td>9</td>\n      <td>11.190</td>\n      <td>982.2020</td>\n      <td>9.228</td>\n      <td>4.100</td>\n    </tr>\n    <tr>\n      <th>274</th>\n      <td>22</td>\n      <td>11.190</td>\n      <td>989.8225</td>\n      <td>9.247</td>\n      <td>6.370</td>\n    </tr>\n    <tr>\n      <th>279</th>\n      <td>21</td>\n      <td>11.196</td>\n      <td>989.8080</td>\n      <td>9.220</td>\n      <td>6.393</td>\n    </tr>\n    <tr>\n      <th>293</th>\n      <td>3</td>\n      <td>11.210</td>\n      <td>991.6520</td>\n      <td>9.398</td>\n      <td>6.277</td>\n    </tr>\n    <tr>\n      <th>307</th>\n      <td>18</td>\n      <td>11.235</td>\n      <td>989.7380</td>\n      <td>9.253</td>\n      <td>6.211</td>\n    </tr>\n    <tr>\n      <th>339</th>\n      <td>8</td>\n      <td>11.188</td>\n      <td>983.5980</td>\n      <td>9.274</td>\n      <td>3.555</td>\n    </tr>\n    <tr>\n      <th>340</th>\n      <td>8</td>\n      <td>11.188</td>\n      <td>983.5980</td>\n      <td>9.274</td>\n      <td>3.555</td>\n    </tr>\n    <tr>\n      <th>354</th>\n      <td>22</td>\n      <td>11.190</td>\n      <td>989.8225</td>\n      <td>9.247</td>\n      <td>6.370</td>\n    </tr>\n    <tr>\n      <th>359</th>\n      <td>10</td>\n      <td>11.219</td>\n      <td>982.5480</td>\n      <td>9.261</td>\n      <td>3.660</td>\n    </tr>\n    <tr>\n      <th>360</th>\n      <td>13</td>\n      <td>11.216</td>\n      <td>985.1840</td>\n      <td>9.263</td>\n      <td>5.779</td>\n    </tr>\n    <tr>\n      <th>361</th>\n      <td>13</td>\n      <td>11.216</td>\n      <td>985.1840</td>\n      <td>9.263</td>\n      <td>5.779</td>\n    </tr>\n    <tr>\n      <th>362</th>\n      <td>17</td>\n      <td>11.232</td>\n      <td>982.4470</td>\n      <td>9.202</td>\n      <td>3.661</td>\n    </tr>\n    <tr>\n      <th>363</th>\n      <td>18</td>\n      <td>11.235</td>\n      <td>989.7380</td>\n      <td>9.253</td>\n      <td>6.211</td>\n    </tr>\n    <tr>\n      <th>364</th>\n      <td>22</td>\n      <td>11.190</td>\n      <td>989.8225</td>\n      <td>9.247</td>\n      <td>6.370</td>\n    </tr>\n    <tr>\n      <th>365</th>\n      <td>20</td>\n      <td>11.199</td>\n      <td>990.0310</td>\n      <td>9.293</td>\n      <td>6.348</td>\n    </tr>\n    <tr>\n      <th>366</th>\n      <td>20</td>\n      <td>11.199</td>\n      <td>990.0310</td>\n      <td>9.293</td>\n      <td>6.348</td>\n    </tr>\n    <tr>\n      <th>367</th>\n      <td>22</td>\n      <td>11.190</td>\n      <td>989.8225</td>\n      <td>9.247</td>\n      <td>6.370</td>\n    </tr>\n    <tr>\n      <th>368</th>\n      <td>20</td>\n      <td>11.199</td>\n      <td>990.0310</td>\n      <td>9.293</td>\n      <td>6.348</td>\n    </tr>\n  </tbody>\n</table>\n</div>"
     },
     "execution_count": 41,
     "metadata": {},
     "output_type": "execute_result"
    }
   ],
   "source": [
    "df.loc[missing_indexes]"
   ],
   "metadata": {
    "collapsed": false,
    "ExecuteTime": {
     "end_time": "2024-04-25T20:31:29.382909Z",
     "start_time": "2024-04-25T20:31:29.371485Z"
    }
   },
   "id": "9cb64ba4acb4b48e",
   "execution_count": 41
  },
  {
   "cell_type": "code",
   "outputs": [],
   "source": [],
   "metadata": {
    "collapsed": false
   },
   "id": "eb216a4f0d819453"
  }
 ],
 "metadata": {
  "kernelspec": {
   "display_name": "Python 3",
   "language": "python",
   "name": "python3"
  },
  "language_info": {
   "codemirror_mode": {
    "name": "ipython",
    "version": 2
   },
   "file_extension": ".py",
   "mimetype": "text/x-python",
   "name": "python",
   "nbconvert_exporter": "python",
   "pygments_lexer": "ipython2",
   "version": "2.7.6"
  }
 },
 "nbformat": 4,
 "nbformat_minor": 5
}
