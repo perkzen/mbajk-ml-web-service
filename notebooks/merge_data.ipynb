{
 "cells": [
  {
   "cell_type": "code",
   "execution_count": 47,
   "id": "initial_id",
   "metadata": {
    "collapsed": true,
    "ExecuteTime": {
     "end_time": "2024-04-21T18:23:20.228703Z",
     "start_time": "2024-04-21T18:23:20.227025Z"
    }
   },
   "outputs": [],
   "source": [
    "import pandas as pd"
   ]
  },
  {
   "cell_type": "code",
   "outputs": [],
   "source": [
    "stations = pd.read_csv('../data/raw/mbajk_stations.csv')\n",
    "weather = pd.read_csv('../data/raw/weather.csv')"
   ],
   "metadata": {
    "collapsed": false,
    "ExecuteTime": {
     "end_time": "2024-04-21T18:23:20.269059Z",
     "start_time": "2024-04-21T18:23:20.235910Z"
    }
   },
   "id": "3c0a25c93f20732",
   "execution_count": 48
  },
  {
   "cell_type": "code",
   "outputs": [],
   "source": [
    "weather = weather.drop_duplicates(subset=[\"date\"])"
   ],
   "metadata": {
    "collapsed": false,
    "ExecuteTime": {
     "end_time": "2024-04-21T18:23:20.272347Z",
     "start_time": "2024-04-21T18:23:20.269995Z"
    }
   },
   "id": "ec04bdc45928d54",
   "execution_count": 49
  },
  {
   "cell_type": "code",
   "outputs": [
    {
     "data": {
      "text/plain": "920"
     },
     "execution_count": 50,
     "metadata": {},
     "output_type": "execute_result"
    }
   ],
   "source": [
    "s = stations[stations[\"number\"] == 1]\n",
    "len(s)"
   ],
   "metadata": {
    "collapsed": false,
    "ExecuteTime": {
     "end_time": "2024-04-21T18:23:20.275654Z",
     "start_time": "2024-04-21T18:23:20.272889Z"
    }
   },
   "id": "1f13256c71ebf6ee",
   "execution_count": 50
  },
  {
   "cell_type": "code",
   "outputs": [
    {
     "data": {
      "text/plain": "26298    2024-04-20T14:00:00\n26327    2024-04-20T15:00:00\n26356    2024-04-20T15:00:00\n26385    2024-04-20T16:00:00\n26414    2024-04-20T16:00:00\nName: date, dtype: object"
     },
     "execution_count": 51,
     "metadata": {},
     "output_type": "execute_result"
    }
   ],
   "source": [
    "s.tail()[\"date\"]"
   ],
   "metadata": {
    "collapsed": false,
    "ExecuteTime": {
     "end_time": "2024-04-21T18:23:20.279265Z",
     "start_time": "2024-04-21T18:23:20.276970Z"
    }
   },
   "id": "ae8994268a108ca8",
   "execution_count": 51
  },
  {
   "cell_type": "code",
   "outputs": [
    {
     "data": {
      "text/plain": "920    2024-04-20T13:00:00\n921    2024-04-20T14:00:00\n923    2024-04-20T15:00:00\n925    2024-04-20T16:00:00\n927    2024-04-20T17:00:00\nName: date, dtype: object"
     },
     "execution_count": 52,
     "metadata": {},
     "output_type": "execute_result"
    }
   ],
   "source": [
    "weather.tail()[\"date\"]"
   ],
   "metadata": {
    "collapsed": false,
    "ExecuteTime": {
     "end_time": "2024-04-21T18:23:20.282323Z",
     "start_time": "2024-04-21T18:23:20.279911Z"
    }
   },
   "id": "328e1e8a7748fe65",
   "execution_count": 52
  },
  {
   "cell_type": "code",
   "outputs": [
    {
     "data": {
      "text/plain": "920"
     },
     "execution_count": 53,
     "metadata": {},
     "output_type": "execute_result"
    }
   ],
   "source": [
    "# add weather data to stations\n",
    "s = s.merge(weather, on=\"date\", how=\"left\")\n",
    "len(s)"
   ],
   "metadata": {
    "collapsed": false,
    "ExecuteTime": {
     "end_time": "2024-04-21T18:23:20.286270Z",
     "start_time": "2024-04-21T18:23:20.282886Z"
    }
   },
   "id": "c42cfd95c8e99a03",
   "execution_count": 53
  },
  {
   "cell_type": "code",
   "outputs": [
    {
     "data": {
      "text/plain": "     available_bike_stands  available_bikes  bike_stands  \\\n915                     21                1           22   \n916                     22                0           22   \n917                     22                0           22   \n918                     21                1           22   \n919                     20                2           22   \n\n                                 name                address  number  \\\n915  GOSPOSVETSKA C. - TURNERJEVA UL.  Gosposvetska cesta 69       1   \n916  GOSPOSVETSKA C. - TURNERJEVA UL.  Gosposvetska cesta 69       1   \n917  GOSPOSVETSKA C. - TURNERJEVA UL.  Gosposvetska cesta 69       1   \n918  GOSPOSVETSKA C. - TURNERJEVA UL.  Gosposvetska cesta 69       1   \n919  GOSPOSVETSKA C. - TURNERJEVA UL.  Gosposvetska cesta 69       1   \n\n                    date        lat       lon  last_updated  temperature  \\\n915  2024-04-20T14:00:00  46.562695  15.62935  1.713622e+12         13.0   \n916  2024-04-20T15:00:00  46.562695  15.62935  1.713626e+12         12.4   \n917  2024-04-20T15:00:00  46.562695  15.62935  1.713627e+12         12.4   \n918  2024-04-20T16:00:00  46.562695  15.62935  1.713629e+12         11.8   \n919  2024-04-20T16:00:00  46.562695  15.62935  1.713632e+12         11.8   \n\n     relative_humidity  dew_point  apparent_temperature  precipitation  rain  \\\n915               48.0        2.3                   9.3            0.1   0.0   \n916               41.0       -0.5                   7.8            0.6   0.0   \n917               41.0       -0.5                   7.8            0.6   0.0   \n918               40.0       -1.4                   7.1            0.0   0.0   \n919               40.0       -1.4                   7.1            0.0   0.0   \n\n     surface_pressure  \n915             980.0  \n916             980.5  \n917             980.5  \n918             981.0  \n919             981.0  ",
      "text/html": "<div>\n<style scoped>\n    .dataframe tbody tr th:only-of-type {\n        vertical-align: middle;\n    }\n\n    .dataframe tbody tr th {\n        vertical-align: top;\n    }\n\n    .dataframe thead th {\n        text-align: right;\n    }\n</style>\n<table border=\"1\" class=\"dataframe\">\n  <thead>\n    <tr style=\"text-align: right;\">\n      <th></th>\n      <th>available_bike_stands</th>\n      <th>available_bikes</th>\n      <th>bike_stands</th>\n      <th>name</th>\n      <th>address</th>\n      <th>number</th>\n      <th>date</th>\n      <th>lat</th>\n      <th>lon</th>\n      <th>last_updated</th>\n      <th>temperature</th>\n      <th>relative_humidity</th>\n      <th>dew_point</th>\n      <th>apparent_temperature</th>\n      <th>precipitation</th>\n      <th>rain</th>\n      <th>surface_pressure</th>\n    </tr>\n  </thead>\n  <tbody>\n    <tr>\n      <th>915</th>\n      <td>21</td>\n      <td>1</td>\n      <td>22</td>\n      <td>GOSPOSVETSKA C. - TURNERJEVA UL.</td>\n      <td>Gosposvetska cesta 69</td>\n      <td>1</td>\n      <td>2024-04-20T14:00:00</td>\n      <td>46.562695</td>\n      <td>15.62935</td>\n      <td>1.713622e+12</td>\n      <td>13.0</td>\n      <td>48.0</td>\n      <td>2.3</td>\n      <td>9.3</td>\n      <td>0.1</td>\n      <td>0.0</td>\n      <td>980.0</td>\n    </tr>\n    <tr>\n      <th>916</th>\n      <td>22</td>\n      <td>0</td>\n      <td>22</td>\n      <td>GOSPOSVETSKA C. - TURNERJEVA UL.</td>\n      <td>Gosposvetska cesta 69</td>\n      <td>1</td>\n      <td>2024-04-20T15:00:00</td>\n      <td>46.562695</td>\n      <td>15.62935</td>\n      <td>1.713626e+12</td>\n      <td>12.4</td>\n      <td>41.0</td>\n      <td>-0.5</td>\n      <td>7.8</td>\n      <td>0.6</td>\n      <td>0.0</td>\n      <td>980.5</td>\n    </tr>\n    <tr>\n      <th>917</th>\n      <td>22</td>\n      <td>0</td>\n      <td>22</td>\n      <td>GOSPOSVETSKA C. - TURNERJEVA UL.</td>\n      <td>Gosposvetska cesta 69</td>\n      <td>1</td>\n      <td>2024-04-20T15:00:00</td>\n      <td>46.562695</td>\n      <td>15.62935</td>\n      <td>1.713627e+12</td>\n      <td>12.4</td>\n      <td>41.0</td>\n      <td>-0.5</td>\n      <td>7.8</td>\n      <td>0.6</td>\n      <td>0.0</td>\n      <td>980.5</td>\n    </tr>\n    <tr>\n      <th>918</th>\n      <td>21</td>\n      <td>1</td>\n      <td>22</td>\n      <td>GOSPOSVETSKA C. - TURNERJEVA UL.</td>\n      <td>Gosposvetska cesta 69</td>\n      <td>1</td>\n      <td>2024-04-20T16:00:00</td>\n      <td>46.562695</td>\n      <td>15.62935</td>\n      <td>1.713629e+12</td>\n      <td>11.8</td>\n      <td>40.0</td>\n      <td>-1.4</td>\n      <td>7.1</td>\n      <td>0.0</td>\n      <td>0.0</td>\n      <td>981.0</td>\n    </tr>\n    <tr>\n      <th>919</th>\n      <td>20</td>\n      <td>2</td>\n      <td>22</td>\n      <td>GOSPOSVETSKA C. - TURNERJEVA UL.</td>\n      <td>Gosposvetska cesta 69</td>\n      <td>1</td>\n      <td>2024-04-20T16:00:00</td>\n      <td>46.562695</td>\n      <td>15.62935</td>\n      <td>1.713632e+12</td>\n      <td>11.8</td>\n      <td>40.0</td>\n      <td>-1.4</td>\n      <td>7.1</td>\n      <td>0.0</td>\n      <td>0.0</td>\n      <td>981.0</td>\n    </tr>\n  </tbody>\n</table>\n</div>"
     },
     "execution_count": 54,
     "metadata": {},
     "output_type": "execute_result"
    }
   ],
   "source": [
    "s.tail()"
   ],
   "metadata": {
    "collapsed": false,
    "ExecuteTime": {
     "end_time": "2024-04-21T18:23:20.292621Z",
     "start_time": "2024-04-21T18:23:20.286802Z"
    }
   },
   "id": "2f34e32df625dadd",
   "execution_count": 54
  }
 ],
 "metadata": {
  "kernelspec": {
   "display_name": "Python 3",
   "language": "python",
   "name": "python3"
  },
  "language_info": {
   "codemirror_mode": {
    "name": "ipython",
    "version": 2
   },
   "file_extension": ".py",
   "mimetype": "text/x-python",
   "name": "python",
   "nbconvert_exporter": "python",
   "pygments_lexer": "ipython2",
   "version": "2.7.6"
  }
 },
 "nbformat": 4,
 "nbformat_minor": 5
}
