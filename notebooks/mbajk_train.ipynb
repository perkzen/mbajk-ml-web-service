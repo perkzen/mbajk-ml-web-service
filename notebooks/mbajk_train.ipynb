{
 "cells": [
  {
   "cell_type": "code",
   "execution_count": 636,
   "id": "initial_id",
   "metadata": {
    "collapsed": true,
    "ExecuteTime": {
     "end_time": "2024-03-10T15:41:30.149258Z",
     "start_time": "2024-03-10T15:41:30.143285Z"
    }
   },
   "outputs": [],
   "source": [
    "import numpy as np\n",
    "import pandas as pd\n",
    "import joblib\n",
    "from keras import Sequential\n",
    "from keras.layers import Dense, GRU, LSTM, Dropout, Input\n",
    "from keras.optimizers import Adam\n",
    "from sklearn.preprocessing import MinMaxScaler\n",
    "from sklearn.metrics import mean_squared_error, mean_absolute_error, explained_variance_score\n",
    "from matplotlib import pyplot as plt"
   ]
  },
  {
   "cell_type": "code",
   "outputs": [],
   "source": [
    "def create_multivariate_time_series(data, n_past, target_col=0, feature_cols=None):\n",
    "    if feature_cols is None:\n",
    "        feature_cols = list(range(data.shape[1]))\n",
    "\n",
    "    X, y = [], []\n",
    "    for i in range(n_past, len(data)):\n",
    "        X.append(data[i - n_past:i, feature_cols])\n",
    "        y.append(data[i, target_col])\n",
    "\n",
    "    return np.array(X), np.array(y)"
   ],
   "metadata": {
    "collapsed": false,
    "ExecuteTime": {
     "end_time": "2024-03-10T15:41:30.156561Z",
     "start_time": "2024-03-10T15:41:30.153814Z"
    }
   },
   "id": "79eb075f0cf18499",
   "execution_count": 637
  },
  {
   "cell_type": "code",
   "outputs": [],
   "source": [
    "def build_GRU_model(input_shape):\n",
    "    model = Sequential(name=\"GRU\")\n",
    "\n",
    "    model.add(Input(shape=input_shape))\n",
    "    model.add(GRU(units=128, return_sequences=True))\n",
    "\n",
    "    model.add(GRU(units=64, return_sequences=True))\n",
    "\n",
    "    model.add(GRU(units=32))\n",
    "\n",
    "    model.add(Dense(units=32, activation=\"relu\"))\n",
    "    model.add(Dense(units=1))\n",
    "\n",
    "    optimizer = Adam(learning_rate=0.01)\n",
    "    model.compile(optimizer=optimizer, loss=\"mean_squared_error\")\n",
    "\n",
    "    return model"
   ],
   "metadata": {
    "collapsed": false,
    "ExecuteTime": {
     "end_time": "2024-03-10T15:41:30.160101Z",
     "start_time": "2024-03-10T15:41:30.157512Z"
    }
   },
   "id": "41dce7453a6de977",
   "execution_count": 638
  },
  {
   "cell_type": "code",
   "outputs": [],
   "source": [
    "def build_LSTM_model(input_shape):\n",
    "    model = Sequential(name=\"LSTM\")\n",
    "\n",
    "    model.add(Input(shape=input_shape))\n",
    "    model.add(LSTM(units=256, return_sequences=True))\n",
    "\n",
    "    model.add(LSTM(units=128, return_sequences=True))\n",
    "\n",
    "    model.add(LSTM(units=64))\n",
    "\n",
    "    model.add(Dense(units=32, activation=\"relu\"))\n",
    "    model.add(Dense(units=1))\n",
    "\n",
    "    optimizer = Adam(learning_rate=0.01)\n",
    "    model.compile(optimizer=optimizer, loss=\"mean_squared_error\")\n",
    "\n",
    "    return model"
   ],
   "metadata": {
    "collapsed": false,
    "ExecuteTime": {
     "end_time": "2024-03-10T15:41:30.163801Z",
     "start_time": "2024-03-10T15:41:30.161140Z"
    }
   },
   "id": "17772cd47c3568c8",
   "execution_count": 639
  },
  {
   "cell_type": "code",
   "outputs": [
    {
     "data": {
      "text/plain": "   available_bike_stands  apparent_temperature  surface_pressure  temperature  \\\n0                      8                  24.7             984.3         25.1   \n1                      7                  23.3             984.5         24.2   \n2                      6                  23.3             984.5         24.2   \n3                      8                  23.3             984.5         24.2   \n4                     12                  23.3             984.5         24.2   \n\n   dew_point                       date  \n0       12.4  2023-06-25 19:07:30+00:00  \n1       10.9  2023-06-25 19:33:48+00:00  \n2       10.9  2023-06-25 19:45:44+00:00  \n3       10.9  2023-06-25 19:55:29+00:00  \n4       10.9  2023-06-25 20:02:16+00:00  ",
      "text/html": "<div>\n<style scoped>\n    .dataframe tbody tr th:only-of-type {\n        vertical-align: middle;\n    }\n\n    .dataframe tbody tr th {\n        vertical-align: top;\n    }\n\n    .dataframe thead th {\n        text-align: right;\n    }\n</style>\n<table border=\"1\" class=\"dataframe\">\n  <thead>\n    <tr style=\"text-align: right;\">\n      <th></th>\n      <th>available_bike_stands</th>\n      <th>apparent_temperature</th>\n      <th>surface_pressure</th>\n      <th>temperature</th>\n      <th>dew_point</th>\n      <th>date</th>\n    </tr>\n  </thead>\n  <tbody>\n    <tr>\n      <th>0</th>\n      <td>8</td>\n      <td>24.7</td>\n      <td>984.3</td>\n      <td>25.1</td>\n      <td>12.4</td>\n      <td>2023-06-25 19:07:30+00:00</td>\n    </tr>\n    <tr>\n      <th>1</th>\n      <td>7</td>\n      <td>23.3</td>\n      <td>984.5</td>\n      <td>24.2</td>\n      <td>10.9</td>\n      <td>2023-06-25 19:33:48+00:00</td>\n    </tr>\n    <tr>\n      <th>2</th>\n      <td>6</td>\n      <td>23.3</td>\n      <td>984.5</td>\n      <td>24.2</td>\n      <td>10.9</td>\n      <td>2023-06-25 19:45:44+00:00</td>\n    </tr>\n    <tr>\n      <th>3</th>\n      <td>8</td>\n      <td>23.3</td>\n      <td>984.5</td>\n      <td>24.2</td>\n      <td>10.9</td>\n      <td>2023-06-25 19:55:29+00:00</td>\n    </tr>\n    <tr>\n      <th>4</th>\n      <td>12</td>\n      <td>23.3</td>\n      <td>984.5</td>\n      <td>24.2</td>\n      <td>10.9</td>\n      <td>2023-06-25 20:02:16+00:00</td>\n    </tr>\n  </tbody>\n</table>\n</div>"
     },
     "execution_count": 640,
     "metadata": {},
     "output_type": "execute_result"
    }
   ],
   "source": [
    "df = pd.read_csv(\"../data/processed/mbajk_processed.csv\")\n",
    "df.head()"
   ],
   "metadata": {
    "collapsed": false,
    "ExecuteTime": {
     "end_time": "2024-03-10T15:41:30.184087Z",
     "start_time": "2024-03-10T15:41:30.164555Z"
    }
   },
   "id": "caca25a7655d51d0",
   "execution_count": 640
  },
  {
   "cell_type": "code",
   "outputs": [
    {
     "data": {
      "text/plain": "(18692, 6)"
     },
     "execution_count": 641,
     "metadata": {},
     "output_type": "execute_result"
    }
   ],
   "source": [
    "df.shape"
   ],
   "metadata": {
    "collapsed": false,
    "ExecuteTime": {
     "end_time": "2024-03-10T15:41:30.187868Z",
     "start_time": "2024-03-10T15:41:30.185457Z"
    }
   },
   "id": "7a9d389d0ed6d893",
   "execution_count": 641
  },
  {
   "cell_type": "code",
   "outputs": [],
   "source": [
    "target = \"available_bike_stands\"\n",
    "features = [target] + [col for col in df.columns if col != target and col != \"date\"]\n",
    "\n",
    "dataset = df[features]"
   ],
   "metadata": {
    "collapsed": false,
    "ExecuteTime": {
     "end_time": "2024-03-10T15:41:30.190981Z",
     "start_time": "2024-03-10T15:41:30.188622Z"
    }
   },
   "id": "700f4b052b88c67b",
   "execution_count": 642
  },
  {
   "cell_type": "code",
   "outputs": [
    {
     "data": {
      "text/plain": "(18692, 5)"
     },
     "execution_count": 643,
     "metadata": {},
     "output_type": "execute_result"
    }
   ],
   "source": [
    "dataset.shape"
   ],
   "metadata": {
    "collapsed": false,
    "ExecuteTime": {
     "end_time": "2024-03-10T15:41:30.193739Z",
     "start_time": "2024-03-10T15:41:30.191829Z"
    }
   },
   "id": "f9de328b92d3e3b0",
   "execution_count": 643
  },
  {
   "cell_type": "code",
   "outputs": [],
   "source": [
    "test_split = round(len(dataset) * 0.2)\n",
    "\n",
    "train_data = dataset[:-test_split]\n",
    "test_data = dataset[-test_split:]"
   ],
   "metadata": {
    "collapsed": false,
    "ExecuteTime": {
     "end_time": "2024-03-10T15:41:30.207042Z",
     "start_time": "2024-03-10T15:41:30.204803Z"
    }
   },
   "id": "b8a7dfcf84d7faad",
   "execution_count": 644
  },
  {
   "cell_type": "code",
   "outputs": [
    {
     "name": "stdout",
     "output_type": "stream",
     "text": [
      "(14954, 5) (3738, 5)\n"
     ]
    }
   ],
   "source": [
    "print(train_data.shape, test_data.shape)"
   ],
   "metadata": {
    "collapsed": false,
    "ExecuteTime": {
     "end_time": "2024-03-10T15:41:30.209786Z",
     "start_time": "2024-03-10T15:41:30.207869Z"
    }
   },
   "id": "7ef020d1680e05d5",
   "execution_count": 645
  },
  {
   "cell_type": "code",
   "outputs": [],
   "source": [
    "scaler = MinMaxScaler()\n",
    "\n",
    "train_data = scaler.fit_transform(train_data)\n",
    "test_data = scaler.transform(test_data)"
   ],
   "metadata": {
    "collapsed": false,
    "ExecuteTime": {
     "end_time": "2024-03-10T15:41:30.214969Z",
     "start_time": "2024-03-10T15:41:30.210288Z"
    }
   },
   "id": "6080639ef6b15ab4",
   "execution_count": 646
  },
  {
   "cell_type": "code",
   "outputs": [
    {
     "name": "stdout",
     "output_type": "stream",
     "text": [
      "Target column index: 0\n",
      "Feature columns index: [0, 1, 2, 3, 4]\n"
     ]
    }
   ],
   "source": [
    "window_size = 10\n",
    "\n",
    "target_col_idx = df.columns.get_loc(target)\n",
    "\n",
    "feature_cols_idx = [df.columns.get_loc(col) for col in features]\n",
    "\n",
    "print(f\"Target column index: {target_col_idx}\")\n",
    "print(f\"Feature columns index: {feature_cols_idx}\")"
   ],
   "metadata": {
    "collapsed": false,
    "ExecuteTime": {
     "end_time": "2024-03-10T15:41:30.218311Z",
     "start_time": "2024-03-10T15:41:30.216133Z"
    }
   },
   "id": "da45feadcf86018d",
   "execution_count": 647
  },
  {
   "cell_type": "code",
   "outputs": [
    {
     "name": "stdout",
     "output_type": "stream",
     "text": [
      "Shape of training data: X_train: (14944, 10, 5), y_train: (14944,)\n",
      "Shape of testing data: X_test: (3728, 10, 5), y_test: (3728,)\n"
     ]
    }
   ],
   "source": [
    "X_train, y_train = create_multivariate_time_series(train_data, window_size, target_col_idx, feature_cols_idx)\n",
    "X_test, y_test = create_multivariate_time_series(test_data, window_size, target_col_idx, feature_cols_idx)\n",
    "\n",
    "print(f\"Shape of training data: X_train: {X_train.shape}, y_train: {y_train.shape}\")\n",
    "print(f\"Shape of testing data: X_test: {X_test.shape}, y_test: {y_test.shape}\")"
   ],
   "metadata": {
    "collapsed": false,
    "ExecuteTime": {
     "end_time": "2024-03-10T15:41:30.288664Z",
     "start_time": "2024-03-10T15:41:30.228077Z"
    }
   },
   "id": "86684946a48f68f2",
   "execution_count": 648
  },
  {
   "cell_type": "code",
   "outputs": [],
   "source": [
    "input_shape = (X_train.shape[1], X_train.shape[2])\n",
    "\n",
    "models = [build_GRU_model(input_shape)]\n",
    "\n",
    "history = {}"
   ],
   "metadata": {
    "collapsed": false,
    "ExecuteTime": {
     "end_time": "2024-03-10T15:41:30.330736Z",
     "start_time": "2024-03-10T15:41:30.289775Z"
    }
   },
   "id": "c02cccee1f4c33f4",
   "execution_count": 649
  },
  {
   "cell_type": "code",
   "outputs": [
    {
     "name": "stdout",
     "output_type": "stream",
     "text": [
      "Training GRU model\n",
      "Epoch 1/10\n",
      "\u001B[1m234/234\u001B[0m \u001B[32m━━━━━━━━━━━━━━━━━━━━\u001B[0m\u001B[37m\u001B[0m \u001B[1m5s\u001B[0m 15ms/step - loss: 0.1126 - val_loss: 0.0051\n",
      "Epoch 2/10\n",
      "\u001B[1m234/234\u001B[0m \u001B[32m━━━━━━━━━━━━━━━━━━━━\u001B[0m\u001B[37m\u001B[0m \u001B[1m3s\u001B[0m 14ms/step - loss: 0.0030 - val_loss: 0.0045\n",
      "Epoch 3/10\n",
      "\u001B[1m234/234\u001B[0m \u001B[32m━━━━━━━━━━━━━━━━━━━━\u001B[0m\u001B[37m\u001B[0m \u001B[1m3s\u001B[0m 15ms/step - loss: 0.0029 - val_loss: 0.0063\n",
      "Epoch 4/10\n",
      "\u001B[1m234/234\u001B[0m \u001B[32m━━━━━━━━━━━━━━━━━━━━\u001B[0m\u001B[37m\u001B[0m \u001B[1m3s\u001B[0m 14ms/step - loss: 0.0027 - val_loss: 0.0044\n",
      "Epoch 5/10\n",
      "\u001B[1m234/234\u001B[0m \u001B[32m━━━━━━━━━━━━━━━━━━━━\u001B[0m\u001B[37m\u001B[0m \u001B[1m3s\u001B[0m 14ms/step - loss: 0.0025 - val_loss: 0.0053\n",
      "Epoch 6/10\n",
      "\u001B[1m234/234\u001B[0m \u001B[32m━━━━━━━━━━━━━━━━━━━━\u001B[0m\u001B[37m\u001B[0m \u001B[1m3s\u001B[0m 14ms/step - loss: 0.0027 - val_loss: 0.0056\n",
      "Epoch 7/10\n",
      "\u001B[1m234/234\u001B[0m \u001B[32m━━━━━━━━━━━━━━━━━━━━\u001B[0m\u001B[37m\u001B[0m \u001B[1m3s\u001B[0m 14ms/step - loss: 0.0029 - val_loss: 0.0047\n",
      "Epoch 8/10\n",
      "\u001B[1m234/234\u001B[0m \u001B[32m━━━━━━━━━━━━━━━━━━━━\u001B[0m\u001B[37m\u001B[0m \u001B[1m3s\u001B[0m 14ms/step - loss: 0.0029 - val_loss: 0.0043\n",
      "Epoch 9/10\n",
      "\u001B[1m234/234\u001B[0m \u001B[32m━━━━━━━━━━━━━━━━━━━━\u001B[0m\u001B[37m\u001B[0m \u001B[1m3s\u001B[0m 15ms/step - loss: 0.0027 - val_loss: 0.0046\n",
      "Epoch 10/10\n",
      "\u001B[1m234/234\u001B[0m \u001B[32m━━━━━━━━━━━━━━━━━━━━\u001B[0m\u001B[37m\u001B[0m \u001B[1m3s\u001B[0m 14ms/step - loss: 0.0027 - val_loss: 0.0043\n"
     ]
    }
   ],
   "source": [
    "for model in models:\n",
    "    print(f\"Training {model.name} model\")\n",
    "    fit_result = model.fit(X_train, y_train, epochs=10, batch_size=64, validation_data=(X_test, y_test), verbose=1)\n",
    "    history[model.name] = fit_result.history"
   ],
   "metadata": {
    "collapsed": false,
    "ExecuteTime": {
     "end_time": "2024-03-10T15:42:05.314326Z",
     "start_time": "2024-03-10T15:41:30.331418Z"
    }
   },
   "id": "26fb7498b43c2825",
   "execution_count": 650
  },
  {
   "cell_type": "code",
   "outputs": [
    {
     "data": {
      "text/plain": "<Figure size 1200x800 with 1 Axes>",
      "image/png": "[encoded data removed]"
     },
     "metadata": {},
     "output_type": "display_data"
    }
   ],
   "source": [
    "plt.figure(figsize=(12, 8))\n",
    "for name, values in history.items():\n",
    "    plt.plot(values['loss'], label=name)\n",
    "\n",
    "plt.xlabel('Epochs')\n",
    "plt.ylabel('Loss')\n",
    "plt.title('Loss Function vs. Epochs for GRU and LSTM Models')\n",
    "plt.legend()\n",
    "plt.show()"
   ],
   "metadata": {
    "collapsed": false,
    "ExecuteTime": {
     "end_time": "2024-03-10T15:42:05.432410Z",
     "start_time": "2024-03-10T15:42:05.315598Z"
    }
   },
   "id": "7dd8fd4dab5b859b",
   "execution_count": 651
  },
  {
   "cell_type": "code",
   "outputs": [],
   "source": [
    "y_test_copy = np.repeat(y_test, dataset.shape[1], axis=-1)\n",
    "y_test = scaler.inverse_transform(np.reshape(y_test_copy, (len(y_test), dataset.shape[1])))[:, 0]"
   ],
   "metadata": {
    "collapsed": false,
    "ExecuteTime": {
     "end_time": "2024-03-10T15:42:05.435594Z",
     "start_time": "2024-03-10T15:42:05.433302Z"
    }
   },
   "id": "501e37e8420f3b9c",
   "execution_count": 652
  },
  {
   "cell_type": "code",
   "outputs": [
    {
     "data": {
      "text/plain": "array([ 2.,  2.,  2., ..., 13., 11., 11.])"
     },
     "execution_count": 653,
     "metadata": {},
     "output_type": "execute_result"
    }
   ],
   "source": [
    "y_test"
   ],
   "metadata": {
    "collapsed": false,
    "ExecuteTime": {
     "end_time": "2024-03-10T15:42:05.438514Z",
     "start_time": "2024-03-10T15:42:05.436407Z"
    }
   },
   "id": "561feffe62d669cf",
   "execution_count": 653
  },
  {
   "cell_type": "code",
   "outputs": [
    {
     "name": "stdout",
     "output_type": "stream",
     "text": [
      "\u001B[1m117/117\u001B[0m \u001B[32m━━━━━━━━━━━━━━━━━━━━\u001B[0m\u001B[37m\u001B[0m \u001B[1m1s\u001B[0m 4ms/step\n",
      "GRU - MSE: 2.07\n",
      "GRU - MAE: 0.97\n",
      "GRU - EVS: 0.96\n",
      "--------------------\n"
     ]
    }
   ],
   "source": [
    "results = {\n",
    "    \"MAE\": [],\n",
    "    \"MSE\": [],\n",
    "    \"EVS\": []\n",
    "}\n",
    "\n",
    "for model in models:\n",
    "    predicted = model.predict(X_test)\n",
    "\n",
    "    prediction_copies = np.repeat(predicted, dataset.shape[1], axis=-1)\n",
    "    predicted = scaler.inverse_transform(np.reshape(prediction_copies, (len(predicted), dataset.shape[1])))[:, 0]\n",
    "\n",
    "    mse = mean_squared_error(y_test, predicted)\n",
    "    mae = mean_absolute_error(y_test, predicted)\n",
    "    evs = explained_variance_score(y_test, predicted)\n",
    "\n",
    "    results['MSE'].append((model.name, mse))\n",
    "    results['MAE'].append((model.name, mae))\n",
    "    results['EVS'].append((model.name, evs))\n",
    "\n",
    "    print(f'{model.name} - MSE: {mse:.2f}')\n",
    "    print(f'{model.name} - MAE: {mae:.2f}')\n",
    "    print(f'{model.name} - EVS: {evs:.2f}')\n",
    "    print(\"-\" * 20)"
   ],
   "metadata": {
    "collapsed": false,
    "ExecuteTime": {
     "end_time": "2024-03-10T15:42:06.051855Z",
     "start_time": "2024-03-10T15:42:05.439108Z"
    }
   },
   "id": "34970d716d596e41",
   "execution_count": 654
  },
  {
   "cell_type": "code",
   "outputs": [
    {
     "name": "stdout",
     "output_type": "stream",
     "text": [
      "\u001B[1m117/117\u001B[0m \u001B[32m━━━━━━━━━━━━━━━━━━━━\u001B[0m\u001B[37m\u001B[0m \u001B[1m0s\u001B[0m 2ms/step\n"
     ]
    }
   ],
   "source": [
    "prediction = models[0].predict(X_test)\n",
    "prediction_copy_array = np.repeat(prediction, dataset.shape[1], axis=-1)"
   ],
   "metadata": {
    "collapsed": false,
    "ExecuteTime": {
     "end_time": "2024-03-10T15:42:06.353361Z",
     "start_time": "2024-03-10T15:42:06.052635Z"
    }
   },
   "id": "e94f2afff99d9e13",
   "execution_count": 655
  },
  {
   "cell_type": "code",
   "outputs": [],
   "source": [
    "pred = scaler.inverse_transform(np.reshape(prediction_copy_array, (len(prediction), dataset.shape[1])))[:, 0]"
   ],
   "metadata": {
    "collapsed": false,
    "ExecuteTime": {
     "end_time": "2024-03-10T15:42:06.356042Z",
     "start_time": "2024-03-10T15:42:06.353996Z"
    }
   },
   "id": "e06fa42fca631672",
   "execution_count": 656
  },
  {
   "cell_type": "code",
   "outputs": [
    {
     "data": {
      "text/plain": "                         date  Actual  Predicted\n0   2023-09-15 01:50:45+00:00     2.0   2.728415\n1   2023-09-15 02:00:50+00:00     2.0   2.712614\n2   2023-09-15 02:10:56+00:00     2.0   2.726594\n3   2023-09-15 02:21:01+00:00     2.0   2.733269\n4   2023-09-15 02:31:07+00:00     2.0   2.727649\n5   2023-09-15 02:41:12+00:00     2.0   2.713106\n6   2023-09-15 02:51:17+00:00     2.0   2.728305\n7   2023-09-15 03:01:23+00:00     2.0   2.734584\n8   2023-09-15 03:11:28+00:00     2.0   2.711824\n9   2023-09-15 03:21:33+00:00     2.0   2.691854\n10  2023-09-15 03:31:38+00:00     2.0   2.684609\n11  2023-09-15 03:41:44+00:00     2.0   2.691707\n12  2023-09-15 03:51:49+00:00     2.0   2.670441\n13  2023-09-15 04:01:55+00:00     2.0   2.656733\n14  2023-09-15 04:06:01+00:00     3.0   2.656261\n15  2023-09-15 04:12:02+00:00     3.0   3.585938\n16  2023-09-15 04:22:07+00:00     3.0   3.696984\n17  2023-09-15 04:27:15+00:00     4.0   3.627839\n18  2023-09-15 04:33:16+00:00     5.0   4.588495\n19  2023-09-15 04:39:16+00:00     6.0   5.852233",
      "text/html": "<div>\n<style scoped>\n    .dataframe tbody tr th:only-of-type {\n        vertical-align: middle;\n    }\n\n    .dataframe tbody tr th {\n        vertical-align: top;\n    }\n\n    .dataframe thead th {\n        text-align: right;\n    }\n</style>\n<table border=\"1\" class=\"dataframe\">\n  <thead>\n    <tr style=\"text-align: right;\">\n      <th></th>\n      <th>date</th>\n      <th>Actual</th>\n      <th>Predicted</th>\n    </tr>\n  </thead>\n  <tbody>\n    <tr>\n      <th>0</th>\n      <td>2023-09-15 01:50:45+00:00</td>\n      <td>2.0</td>\n      <td>2.728415</td>\n    </tr>\n    <tr>\n      <th>1</th>\n      <td>2023-09-15 02:00:50+00:00</td>\n      <td>2.0</td>\n      <td>2.712614</td>\n    </tr>\n    <tr>\n      <th>2</th>\n      <td>2023-09-15 02:10:56+00:00</td>\n      <td>2.0</td>\n      <td>2.726594</td>\n    </tr>\n    <tr>\n      <th>3</th>\n      <td>2023-09-15 02:21:01+00:00</td>\n      <td>2.0</td>\n      <td>2.733269</td>\n    </tr>\n    <tr>\n      <th>4</th>\n      <td>2023-09-15 02:31:07+00:00</td>\n      <td>2.0</td>\n      <td>2.727649</td>\n    </tr>\n    <tr>\n      <th>5</th>\n      <td>2023-09-15 02:41:12+00:00</td>\n      <td>2.0</td>\n      <td>2.713106</td>\n    </tr>\n    <tr>\n      <th>6</th>\n      <td>2023-09-15 02:51:17+00:00</td>\n      <td>2.0</td>\n      <td>2.728305</td>\n    </tr>\n    <tr>\n      <th>7</th>\n      <td>2023-09-15 03:01:23+00:00</td>\n      <td>2.0</td>\n      <td>2.734584</td>\n    </tr>\n    <tr>\n      <th>8</th>\n      <td>2023-09-15 03:11:28+00:00</td>\n      <td>2.0</td>\n      <td>2.711824</td>\n    </tr>\n    <tr>\n      <th>9</th>\n      <td>2023-09-15 03:21:33+00:00</td>\n      <td>2.0</td>\n      <td>2.691854</td>\n    </tr>\n    <tr>\n      <th>10</th>\n      <td>2023-09-15 03:31:38+00:00</td>\n      <td>2.0</td>\n      <td>2.684609</td>\n    </tr>\n    <tr>\n      <th>11</th>\n      <td>2023-09-15 03:41:44+00:00</td>\n      <td>2.0</td>\n      <td>2.691707</td>\n    </tr>\n    <tr>\n      <th>12</th>\n      <td>2023-09-15 03:51:49+00:00</td>\n      <td>2.0</td>\n      <td>2.670441</td>\n    </tr>\n    <tr>\n      <th>13</th>\n      <td>2023-09-15 04:01:55+00:00</td>\n      <td>2.0</td>\n      <td>2.656733</td>\n    </tr>\n    <tr>\n      <th>14</th>\n      <td>2023-09-15 04:06:01+00:00</td>\n      <td>3.0</td>\n      <td>2.656261</td>\n    </tr>\n    <tr>\n      <th>15</th>\n      <td>2023-09-15 04:12:02+00:00</td>\n      <td>3.0</td>\n      <td>3.585938</td>\n    </tr>\n    <tr>\n      <th>16</th>\n      <td>2023-09-15 04:22:07+00:00</td>\n      <td>3.0</td>\n      <td>3.696984</td>\n    </tr>\n    <tr>\n      <th>17</th>\n      <td>2023-09-15 04:27:15+00:00</td>\n      <td>4.0</td>\n      <td>3.627839</td>\n    </tr>\n    <tr>\n      <th>18</th>\n      <td>2023-09-15 04:33:16+00:00</td>\n      <td>5.0</td>\n      <td>4.588495</td>\n    </tr>\n    <tr>\n      <th>19</th>\n      <td>2023-09-15 04:39:16+00:00</td>\n      <td>6.0</td>\n      <td>5.852233</td>\n    </tr>\n  </tbody>\n</table>\n</div>"
     },
     "execution_count": 657,
     "metadata": {},
     "output_type": "execute_result"
    }
   ],
   "source": [
    "dates = df['date'].values\n",
    "df_output = pd.DataFrame({\"date\": dates[-test_split + window_size:], 'Actual': y_test, 'Predicted': pred})\n",
    "df_output.head(20)"
   ],
   "metadata": {
    "collapsed": false,
    "ExecuteTime": {
     "end_time": "2024-03-10T15:42:06.362565Z",
     "start_time": "2024-03-10T15:42:06.357919Z"
    }
   },
   "id": "4eb6124962faf65a",
   "execution_count": 657
  },
  {
   "cell_type": "code",
   "outputs": [],
   "source": [
    "# joblib.dump(scaler, \"../models/mbajk_scaler.pkl\")\n",
    "# model.save(f\"../models/mbajk_{model.name}_model.keras\")"
   ],
   "metadata": {
    "collapsed": false,
    "ExecuteTime": {
     "end_time": "2024-03-10T15:42:06.364544Z",
     "start_time": "2024-03-10T15:42:06.363149Z"
    }
   },
   "id": "1d2d477229a4d58f",
   "execution_count": 658
  }
 ],
 "metadata": {
  "kernelspec": {
   "display_name": "Python 3",
   "language": "python",
   "name": "python3"
  },
  "language_info": {
   "codemirror_mode": {
    "name": "ipython",
    "version": 2
   },
   "file_extension": ".py",
   "mimetype": "text/x-python",
   "name": "python",
   "nbconvert_exporter": "python",
   "pygments_lexer": "ipython2",
   "version": "2.7.6"
  }
 },
 "nbformat": 4,
 "nbformat_minor": 5
}
